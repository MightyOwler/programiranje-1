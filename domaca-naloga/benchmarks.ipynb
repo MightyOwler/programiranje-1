{
 "cells": [
  {
   "cell_type": "markdown",
   "metadata": {
    "id": "GvSWHVzqdetf"
   },
   "source": [
    "# Izračun točk"
   ]
  },
  {
   "cell_type": "code",
   "execution_count": 49,
   "metadata": {
    "id": "kFBpj_WdZLHW"
   },
   "outputs": [],
   "source": [
    "import pandas as pd\n",
    "import re"
   ]
  },
  {
   "cell_type": "code",
   "execution_count": 50,
   "metadata": {
    "colab": {
     "base_uri": "https://localhost:8080/",
     "height": 375
    },
    "id": "XAV5ZsWGihP6",
    "outputId": "dc100fa7-1ecc-4dd8-b449-f4f20018c77a"
   },
   "outputs": [],
   "source": [
    "benchmarks = pd.read_csv(\"benchmarks.csv\", names=[\"name\", \"sudoku\", \"result\", \"time\"])"
   ]
  },
  {
   "cell_type": "code",
   "execution_count": 51,
   "metadata": {},
   "outputs": [],
   "source": [
    "def kind(sudoku):\n",
    "    match = re.search(\"(?P<kind>\\w+)-\\d+\\.sdk\", sudoku)\n",
    "    if match:\n",
    "        return match.group(\"kind\")\n",
    "\n",
    "\n",
    "benchmarks[\"kind\"] = benchmarks.sudoku.apply(kind)"
   ]
  },
  {
   "cell_type": "code",
   "execution_count": 52,
   "metadata": {},
   "outputs": [],
   "source": [
    "time_range = (\n",
    "    benchmarks[benchmarks.result == \"CORRECT\"]\n",
    "    .groupby(\"sudoku\")\n",
    "    .aggregate({\"time\": [(\"fastest\", \"min\"), (\"slowest\", \"max\")]})\n",
    ")\n",
    "time_range.columns = time_range.columns.get_level_values(1)\n",
    "benchmarks = pd.merge(benchmarks, time_range, on=\"sudoku\", how=\"left\")"
   ]
  },
  {
   "cell_type": "code",
   "execution_count": 53,
   "metadata": {},
   "outputs": [],
   "source": [
    "incorrect = benchmarks.result != \"CORRECT\"\n",
    "benchmarks.loc[incorrect, \"time\"] = benchmarks[incorrect].slowest * 2\n",
    "\n",
    "benchmarks[\"relative_time\"] = benchmarks.time / benchmarks.fastest"
   ]
  },
  {
   "cell_type": "code",
   "execution_count": 54,
   "metadata": {},
   "outputs": [
    {
     "data": {
      "text/html": [
       "<div>\n",
       "<style scoped>\n",
       "    .dataframe tbody tr th:only-of-type {\n",
       "        vertical-align: middle;\n",
       "    }\n",
       "\n",
       "    .dataframe tbody tr th {\n",
       "        vertical-align: top;\n",
       "    }\n",
       "\n",
       "    .dataframe thead th {\n",
       "        text-align: right;\n",
       "    }\n",
       "</style>\n",
       "<table border=\"1\" class=\"dataframe\">\n",
       "  <thead>\n",
       "    <tr style=\"text-align: right;\">\n",
       "      <th></th>\n",
       "      <th>name</th>\n",
       "      <th>sudoku</th>\n",
       "      <th>result</th>\n",
       "      <th>time</th>\n",
       "      <th>kind</th>\n",
       "      <th>fastest</th>\n",
       "      <th>slowest</th>\n",
       "      <th>relative_time</th>\n",
       "    </tr>\n",
       "  </thead>\n",
       "  <tbody>\n",
       "    <tr>\n",
       "      <th>0</th>\n",
       "      <td>student-1</td>\n",
       "      <td>kletke-1.sdk</td>\n",
       "      <td>ERROR</td>\n",
       "      <td>NaN</td>\n",
       "      <td>kletke</td>\n",
       "      <td>NaN</td>\n",
       "      <td>NaN</td>\n",
       "      <td>NaN</td>\n",
       "    </tr>\n",
       "    <tr>\n",
       "      <th>1</th>\n",
       "      <td>student-1</td>\n",
       "      <td>kletke-10.sdk</td>\n",
       "      <td>ERROR</td>\n",
       "      <td>0.039622</td>\n",
       "      <td>kletke</td>\n",
       "      <td>0.003459</td>\n",
       "      <td>0.019811</td>\n",
       "      <td>11.454756</td>\n",
       "    </tr>\n",
       "    <tr>\n",
       "      <th>2</th>\n",
       "      <td>student-1</td>\n",
       "      <td>kletke-100.sdk</td>\n",
       "      <td>ERROR</td>\n",
       "      <td>0.002816</td>\n",
       "      <td>kletke</td>\n",
       "      <td>0.001408</td>\n",
       "      <td>0.001408</td>\n",
       "      <td>2.000000</td>\n",
       "    </tr>\n",
       "    <tr>\n",
       "      <th>3</th>\n",
       "      <td>student-1</td>\n",
       "      <td>kletke-11.sdk</td>\n",
       "      <td>ERROR</td>\n",
       "      <td>0.007602</td>\n",
       "      <td>kletke</td>\n",
       "      <td>0.003801</td>\n",
       "      <td>0.003801</td>\n",
       "      <td>2.000000</td>\n",
       "    </tr>\n",
       "    <tr>\n",
       "      <th>4</th>\n",
       "      <td>student-1</td>\n",
       "      <td>kletke-12.sdk</td>\n",
       "      <td>ERROR</td>\n",
       "      <td>NaN</td>\n",
       "      <td>kletke</td>\n",
       "      <td>NaN</td>\n",
       "      <td>NaN</td>\n",
       "      <td>NaN</td>\n",
       "    </tr>\n",
       "    <tr>\n",
       "      <th>...</th>\n",
       "      <td>...</td>\n",
       "      <td>...</td>\n",
       "      <td>...</td>\n",
       "      <td>...</td>\n",
       "      <td>...</td>\n",
       "      <td>...</td>\n",
       "      <td>...</td>\n",
       "      <td>...</td>\n",
       "    </tr>\n",
       "    <tr>\n",
       "      <th>9862</th>\n",
       "      <td>student-9</td>\n",
       "      <td>termometri-95.sdk</td>\n",
       "      <td>WRONG</td>\n",
       "      <td>0.434490</td>\n",
       "      <td>termometri</td>\n",
       "      <td>0.002630</td>\n",
       "      <td>0.217245</td>\n",
       "      <td>165.205323</td>\n",
       "    </tr>\n",
       "    <tr>\n",
       "      <th>9863</th>\n",
       "      <td>student-9</td>\n",
       "      <td>termometri-96.sdk</td>\n",
       "      <td>TIMEOUT</td>\n",
       "      <td>0.003302</td>\n",
       "      <td>termometri</td>\n",
       "      <td>0.001651</td>\n",
       "      <td>0.001651</td>\n",
       "      <td>2.000000</td>\n",
       "    </tr>\n",
       "    <tr>\n",
       "      <th>9864</th>\n",
       "      <td>student-9</td>\n",
       "      <td>termometri-97.sdk</td>\n",
       "      <td>WRONG</td>\n",
       "      <td>0.007382</td>\n",
       "      <td>termometri</td>\n",
       "      <td>0.003691</td>\n",
       "      <td>0.003691</td>\n",
       "      <td>2.000000</td>\n",
       "    </tr>\n",
       "    <tr>\n",
       "      <th>9865</th>\n",
       "      <td>student-9</td>\n",
       "      <td>termometri-98.sdk</td>\n",
       "      <td>WRONG</td>\n",
       "      <td>0.005312</td>\n",
       "      <td>termometri</td>\n",
       "      <td>0.002656</td>\n",
       "      <td>0.002656</td>\n",
       "      <td>2.000000</td>\n",
       "    </tr>\n",
       "    <tr>\n",
       "      <th>9866</th>\n",
       "      <td>student-9</td>\n",
       "      <td>termometri-99.sdk</td>\n",
       "      <td>WRONG</td>\n",
       "      <td>0.002724</td>\n",
       "      <td>termometri</td>\n",
       "      <td>0.001362</td>\n",
       "      <td>0.001362</td>\n",
       "      <td>2.000000</td>\n",
       "    </tr>\n",
       "  </tbody>\n",
       "</table>\n",
       "<p>9867 rows × 8 columns</p>\n",
       "</div>"
      ],
      "text/plain": [
       "           name             sudoku   result      time        kind   fastest  \\\n",
       "0     student-1       kletke-1.sdk    ERROR       NaN      kletke       NaN   \n",
       "1     student-1      kletke-10.sdk    ERROR  0.039622      kletke  0.003459   \n",
       "2     student-1     kletke-100.sdk    ERROR  0.002816      kletke  0.001408   \n",
       "3     student-1      kletke-11.sdk    ERROR  0.007602      kletke  0.003801   \n",
       "4     student-1      kletke-12.sdk    ERROR       NaN      kletke       NaN   \n",
       "...         ...                ...      ...       ...         ...       ...   \n",
       "9862  student-9  termometri-95.sdk    WRONG  0.434490  termometri  0.002630   \n",
       "9863  student-9  termometri-96.sdk  TIMEOUT  0.003302  termometri  0.001651   \n",
       "9864  student-9  termometri-97.sdk    WRONG  0.007382  termometri  0.003691   \n",
       "9865  student-9  termometri-98.sdk    WRONG  0.005312  termometri  0.002656   \n",
       "9866  student-9  termometri-99.sdk    WRONG  0.002724  termometri  0.001362   \n",
       "\n",
       "       slowest  relative_time  \n",
       "0          NaN            NaN  \n",
       "1     0.019811      11.454756  \n",
       "2     0.001408       2.000000  \n",
       "3     0.003801       2.000000  \n",
       "4          NaN            NaN  \n",
       "...        ...            ...  \n",
       "9862  0.217245     165.205323  \n",
       "9863  0.001651       2.000000  \n",
       "9864  0.003691       2.000000  \n",
       "9865  0.002656       2.000000  \n",
       "9866  0.001362       2.000000  \n",
       "\n",
       "[9867 rows x 8 columns]"
      ]
     },
     "execution_count": 54,
     "metadata": {},
     "output_type": "execute_result"
    }
   ],
   "source": [
    "benchmarks"
   ]
  },
  {
   "cell_type": "markdown",
   "metadata": {
    "id": "wEWAIT2MaLYE"
   },
   "source": [
    "## Točke za pravilnost\n",
    "\n",
    "- 5 točk - 100% pravilno rešenih običajnih sudokujev\n",
    "- 4 točke - ≥50% pravilno rešenih običajnih sudokujev\n",
    "- 3 točke - >0% pravilno rešenih običajnih sudokujev\n",
    "- 0-2 točki - odvisno od pravilnosti pomožnih funkcij - se določi ročno"
   ]
  },
  {
   "cell_type": "code",
   "execution_count": 55,
   "metadata": {},
   "outputs": [],
   "source": [
    "number_of_correct = (\n",
    "    benchmarks[(benchmarks.kind == \"obicajni\") & (benchmarks.result == \"CORRECT\")]\n",
    "    .groupby(\"name\")\n",
    "    .size()\n",
    ")"
   ]
  },
  {
   "cell_type": "code",
   "execution_count": 56,
   "metadata": {},
   "outputs": [
    {
     "data": {
      "text/plain": [
       "<AxesSubplot:xlabel='name'>"
      ]
     },
     "execution_count": 56,
     "metadata": {},
     "output_type": "execute_result"
    },
    {
     "data": {
      "image/png": "[encoded data removed]",
      "text/plain": [
       "<Figure size 432x288 with 1 Axes>"
      ]
     },
     "metadata": {
      "needs_background": "light"
     },
     "output_type": "display_data"
    }
   ],
   "source": [
    "number_of_correct.sort_values(ascending=False).plot.bar()"
   ]
  },
  {
   "cell_type": "code",
   "execution_count": 57,
   "metadata": {
    "id": "0Bp9NYhfahh1"
   },
   "outputs": [],
   "source": [
    "total = len(set(benchmarks[benchmarks.kind == \"obicajni\"].sudoku))\n",
    "\n",
    "\n",
    "def tocke_za_pravilnost(correct):\n",
    "    if correct == total:\n",
    "        return 5\n",
    "    elif correct / total >= 0.5:\n",
    "        return 4\n",
    "    else:\n",
    "        # če se vrednost pojavi, je moral biti vsaj en pravilen\n",
    "        return 3"
   ]
  },
  {
   "cell_type": "code",
   "execution_count": 58,
   "metadata": {
    "colab": {
     "base_uri": "https://localhost:8080/"
    },
    "id": "aINHi2DFZpkk",
    "outputId": "4571fc7d-5292-4822-84be-4d9b9d1460b8"
   },
   "outputs": [
    {
     "data": {
      "text/plain": [
       "name\n",
       "student-10    5\n",
       "student-11    4\n",
       "student-12    3\n",
       "student-13    4\n",
       "student-14    4\n",
       "student-15    4\n",
       "student-18    4\n",
       "student-2     4\n",
       "student-21    5\n",
       "student-22    4\n",
       "student-24    4\n",
       "student-25    5\n",
       "student-26    3\n",
       "student-27    4\n",
       "student-3     5\n",
       "student-4     4\n",
       "student-5     5\n",
       "student-6     5\n",
       "student-7     5\n",
       "student-9     4\n",
       "dtype: int64"
      ]
     },
     "execution_count": 58,
     "metadata": {},
     "output_type": "execute_result"
    }
   ],
   "source": [
    "number_of_correct.apply(tocke_za_pravilnost)"
   ]
  },
  {
   "cell_type": "markdown",
   "metadata": {
    "id": "OgXEZI0vdO5a"
   },
   "source": [
    "## Točke za hitrost"
   ]
  },
  {
   "cell_type": "code",
   "execution_count": 59,
   "metadata": {},
   "outputs": [],
   "source": [
    "speed_benchmarks = benchmarks[\n",
    "    (benchmarks.kind == \"obicajni\") & ~pd.isna(benchmarks.time)\n",
    "]"
   ]
  },
  {
   "cell_type": "code",
   "execution_count": 60,
   "metadata": {
    "colab": {
     "base_uri": "https://localhost:8080/",
     "height": 372
    },
    "id": "r3Xh8MzFdtyr",
    "outputId": "cf2595d5-17c7-4746-de45-4c2eb3c33d8b"
   },
   "outputs": [
    {
     "data": {
      "text/plain": [
       "<AxesSubplot:title={'center':'relative_time'}, xlabel='name'>"
      ]
     },
     "execution_count": 60,
     "metadata": {},
     "output_type": "execute_result"
    },
    {
     "data": {
      "image/png": "[encoded data removed]",
      "text/plain": [
       "<Figure size 432x288 with 1 Axes>"
      ]
     },
     "metadata": {
      "needs_background": "light"
     },
     "output_type": "display_data"
    }
   ],
   "source": [
    "speed_benchmarks.boxplot(\"relative_time\", by=\"name\", vert=False)"
   ]
  },
  {
   "cell_type": "code",
   "execution_count": 61,
   "metadata": {
    "colab": {
     "base_uri": "https://localhost:8080/",
     "height": 759
    },
    "id": "mrdF7XWsor-X",
    "outputId": "3f5dafbf-ae1f-41f5-8521-737657f1d935"
   },
   "outputs": [
    {
     "data": {
      "text/plain": [
       "name\n",
       "student-10      47.365067\n",
       "student-11     252.015021\n",
       "student-12    1194.094429\n",
       "student-13    1055.508032\n",
       "student-14     801.386615\n",
       "student-15     971.959312\n",
       "student-16    1490.627048\n",
       "student-18     163.702420\n",
       "student-2      288.958100\n",
       "student-21      32.879630\n",
       "student-22     692.851793\n",
       "student-24     156.364094\n",
       "student-25      20.136035\n",
       "student-26    1250.673455\n",
       "student-27     149.873673\n",
       "student-3        1.052391\n",
       "student-4      287.697223\n",
       "student-5        5.736805\n",
       "student-6       28.242018\n",
       "student-7       20.332330\n",
       "student-9      132.955923\n",
       "Name: relative_time, dtype: float64"
      ]
     },
     "execution_count": 61,
     "metadata": {},
     "output_type": "execute_result"
    },
    {
     "data": {
      "image/png": "[encoded data removed]",
      "text/plain": [
       "<Figure size 432x288 with 1 Axes>"
      ]
     },
     "metadata": {
      "needs_background": "light"
     },
     "output_type": "display_data"
    }
   ],
   "source": [
    "speed = speed_benchmarks.groupby(\"name\").mean().relative_time\n",
    "speed.sort_values().plot.bar(log=True)\n",
    "speed"
   ]
  },
  {
   "cell_type": "markdown",
   "metadata": {
    "id": "IP-LjO-VbZ5V"
   },
   "source": [
    "## Točke za razširitve\n",
    "\n"
   ]
  },
  {
   "cell_type": "code",
   "execution_count": 62,
   "metadata": {},
   "outputs": [],
   "source": [
    "extension_benchmarks = benchmarks[\n",
    "    (benchmarks.result != \"ERROR\") & (benchmarks.kind != \"obicajni\")\n",
    "]"
   ]
  },
  {
   "cell_type": "code",
   "execution_count": 63,
   "metadata": {
    "colab": {
     "base_uri": "https://localhost:8080/",
     "height": 359
    },
    "id": "Lj-fTyqWaB7V",
    "outputId": "532562a3-5560-4bde-b66c-05938fd77935"
   },
   "outputs": [
    {
     "data": {
      "text/html": [
       "<div>\n",
       "<style scoped>\n",
       "    .dataframe tbody tr th:only-of-type {\n",
       "        vertical-align: middle;\n",
       "    }\n",
       "\n",
       "    .dataframe tbody tr th {\n",
       "        vertical-align: top;\n",
       "    }\n",
       "\n",
       "    .dataframe thead th {\n",
       "        text-align: right;\n",
       "    }\n",
       "</style>\n",
       "<table border=\"1\" class=\"dataframe\">\n",
       "  <thead>\n",
       "    <tr style=\"text-align: right;\">\n",
       "      <th></th>\n",
       "      <th>result</th>\n",
       "      <th>CORRECT</th>\n",
       "      <th>TIMEOUT</th>\n",
       "      <th>WRONG</th>\n",
       "    </tr>\n",
       "    <tr>\n",
       "      <th>name</th>\n",
       "      <th>kind</th>\n",
       "      <th></th>\n",
       "      <th></th>\n",
       "      <th></th>\n",
       "    </tr>\n",
       "  </thead>\n",
       "  <tbody>\n",
       "    <tr>\n",
       "      <th>student-17</th>\n",
       "      <th>kletke</th>\n",
       "      <td>NaN</td>\n",
       "      <td>1.0</td>\n",
       "      <td>1.0</td>\n",
       "    </tr>\n",
       "    <tr>\n",
       "      <th>student-19</th>\n",
       "      <th>kletke</th>\n",
       "      <td>1.0</td>\n",
       "      <td>1.0</td>\n",
       "      <td>NaN</td>\n",
       "    </tr>\n",
       "    <tr>\n",
       "      <th>student-20</th>\n",
       "      <th>kletke</th>\n",
       "      <td>NaN</td>\n",
       "      <td>96.0</td>\n",
       "      <td>1.0</td>\n",
       "    </tr>\n",
       "    <tr>\n",
       "      <th>student-23</th>\n",
       "      <th>kletke</th>\n",
       "      <td>NaN</td>\n",
       "      <td>16.0</td>\n",
       "      <td>NaN</td>\n",
       "    </tr>\n",
       "    <tr>\n",
       "      <th rowspan=\"4\" valign=\"top\">student-3</th>\n",
       "      <th>kletke</th>\n",
       "      <td>88.0</td>\n",
       "      <td>9.0</td>\n",
       "      <td>NaN</td>\n",
       "    </tr>\n",
       "    <tr>\n",
       "      <th>kombinirani</th>\n",
       "      <td>53.0</td>\n",
       "      <td>NaN</td>\n",
       "      <td>NaN</td>\n",
       "    </tr>\n",
       "    <tr>\n",
       "      <th>puscice</th>\n",
       "      <td>98.0</td>\n",
       "      <td>2.0</td>\n",
       "      <td>NaN</td>\n",
       "    </tr>\n",
       "    <tr>\n",
       "      <th>termometri</th>\n",
       "      <td>100.0</td>\n",
       "      <td>NaN</td>\n",
       "      <td>NaN</td>\n",
       "    </tr>\n",
       "    <tr>\n",
       "      <th rowspan=\"4\" valign=\"top\">student-5</th>\n",
       "      <th>kletke</th>\n",
       "      <td>NaN</td>\n",
       "      <td>NaN</td>\n",
       "      <td>97.0</td>\n",
       "    </tr>\n",
       "    <tr>\n",
       "      <th>kombinirani</th>\n",
       "      <td>NaN</td>\n",
       "      <td>24.0</td>\n",
       "      <td>29.0</td>\n",
       "    </tr>\n",
       "    <tr>\n",
       "      <th>puscice</th>\n",
       "      <td>26.0</td>\n",
       "      <td>74.0</td>\n",
       "      <td>NaN</td>\n",
       "    </tr>\n",
       "    <tr>\n",
       "      <th>termometri</th>\n",
       "      <td>30.0</td>\n",
       "      <td>70.0</td>\n",
       "      <td>NaN</td>\n",
       "    </tr>\n",
       "    <tr>\n",
       "      <th>student-6</th>\n",
       "      <th>termometri</th>\n",
       "      <td>12.0</td>\n",
       "      <td>88.0</td>\n",
       "      <td>NaN</td>\n",
       "    </tr>\n",
       "    <tr>\n",
       "      <th rowspan=\"4\" valign=\"top\">student-9</th>\n",
       "      <th>kletke</th>\n",
       "      <td>NaN</td>\n",
       "      <td>12.0</td>\n",
       "      <td>85.0</td>\n",
       "    </tr>\n",
       "    <tr>\n",
       "      <th>kombinirani</th>\n",
       "      <td>NaN</td>\n",
       "      <td>9.0</td>\n",
       "      <td>44.0</td>\n",
       "    </tr>\n",
       "    <tr>\n",
       "      <th>puscice</th>\n",
       "      <td>NaN</td>\n",
       "      <td>7.0</td>\n",
       "      <td>93.0</td>\n",
       "    </tr>\n",
       "    <tr>\n",
       "      <th>termometri</th>\n",
       "      <td>NaN</td>\n",
       "      <td>9.0</td>\n",
       "      <td>91.0</td>\n",
       "    </tr>\n",
       "  </tbody>\n",
       "</table>\n",
       "</div>"
      ],
      "text/plain": [
       "result                  CORRECT  TIMEOUT  WRONG\n",
       "name       kind                                \n",
       "student-17 kletke           NaN      1.0    1.0\n",
       "student-19 kletke           1.0      1.0    NaN\n",
       "student-20 kletke           NaN     96.0    1.0\n",
       "student-23 kletke           NaN     16.0    NaN\n",
       "student-3  kletke          88.0      9.0    NaN\n",
       "           kombinirani     53.0      NaN    NaN\n",
       "           puscice         98.0      2.0    NaN\n",
       "           termometri     100.0      NaN    NaN\n",
       "student-5  kletke           NaN      NaN   97.0\n",
       "           kombinirani      NaN     24.0   29.0\n",
       "           puscice         26.0     74.0    NaN\n",
       "           termometri      30.0     70.0    NaN\n",
       "student-6  termometri      12.0     88.0    NaN\n",
       "student-9  kletke           NaN     12.0   85.0\n",
       "           kombinirani      NaN      9.0   44.0\n",
       "           puscice          NaN      7.0   93.0\n",
       "           termometri       NaN      9.0   91.0"
      ]
     },
     "execution_count": 63,
     "metadata": {},
     "output_type": "execute_result"
    }
   ],
   "source": [
    "extension_benchmarks.groupby([\"name\", \"kind\", \"result\"]).size().unstack()"
   ]
  },
  {
   "cell_type": "code",
   "execution_count": 64,
   "metadata": {
    "colab": {
     "base_uri": "https://localhost:8080/"
    },
    "id": "o5_MaIShzE70",
    "outputId": "2c4baf26-e263-40fb-d651-e56826cfbbc1"
   },
   "outputs": [
    {
     "data": {
      "text/plain": [
       "name        kind       \n",
       "student-17  kletke          11.454756\n",
       "student-19  kletke           5.727378\n",
       "student-20  kletke           2.107440\n",
       "student-23  kletke           2.675340\n",
       "student-3   kletke           1.000000\n",
       "            kombinirani      1.000000\n",
       "            puscice          1.000000\n",
       "            termometri       1.000000\n",
       "student-5   kletke           2.107440\n",
       "            kombinirani      2.000000\n",
       "            puscice         25.442180\n",
       "            termometri      71.664877\n",
       "student-6   termometri     127.804518\n",
       "student-9   kletke           2.107440\n",
       "            kombinirani      2.000000\n",
       "            puscice         49.414973\n",
       "            termometri     162.318275\n",
       "Name: relative_time, dtype: float64"
      ]
     },
     "execution_count": 64,
     "metadata": {},
     "output_type": "execute_result"
    }
   ],
   "source": [
    "extension_benchmarks.groupby([\"name\", \"kind\"]).mean().relative_time"
   ]
  }
 ],
 "metadata": {
  "colab": {
   "collapsed_sections": [],
   "name": "Untitled21.ipynb",
   "provenance": []
  },
  "kernelspec": {
   "display_name": "venv",
   "language": "python",
   "name": "python3"
  },
  "language_info": {
   "codemirror_mode": {
    "name": "ipython",
    "version": 3
   },
   "file_extension": ".py",
   "mimetype": "text/x-python",
   "name": "python",
   "nbconvert_exporter": "python",
   "pygments_lexer": "ipython3",
   "version": "3.8.7"
  },
  "vscode": {
   "interpreter": {
    "hash": "23393d2575091a37cff0d0e9e7479591a295495b26c3b2ebf9b64da572e02d85"
   }
  }
 },
 "nbformat": 4,
 "nbformat_minor": 0
}
